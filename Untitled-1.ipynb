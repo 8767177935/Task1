{
 "cells": [
  {
   "cell_type": "code",
   "execution_count": null,
   "metadata": {},
   "outputs": [],
   "source": [
    "import pandas as pd\n",
    "import numpy as np\n",
    "from sklearn.model_selection import train_test_split\n",
    "from sklearn.linear_model import LinearRegression\n",
    "import yfinance as yf  # We'll use yfinance to fetch stock price data\n",
    "\n",
    "# Define the stock symbol and time frame for the data\n",
    "stock_symbol = \"AAPL\"  # Example: Apple Inc.\n",
    "start_date = \"2020-01-01\"\n",
    "end_date = \"2021-12-31\"\n",
    "\n",
    "# Download historical stock price data using yfinance\n",
    "df = yf.download(stock_symbol, start=start_date, end=end_date, progress=False)\n",
    "\n",
    "# Use 'Adj Close' as the target variable (closing price)\n",
    "df = df[['Adj Close']]\n",
    "\n",
    "# Create a new column 'Target' by shifting the 'Adj Close' prices one day into the future\n",
    "df['Target'] = df['Adj Close'].shift(-1)\n",
    "\n",
    "# Drop the last row with NaN target (since there's no future data for it)\n",
    "df = df.dropna()\n",
    "\n",
    "# Split the data into features (X) and target (y)\n",
    "X = np.array(df['Adj Close']).reshape(-1, 1)\n",
    "y = np.array(df['Target'])\n",
    "\n",
    "# Split the data into training and testing sets\n",
    "X_train, X_test, y_train, y_test = train_test_split(X, y, test_size=0.2, random_state=42)\n",
    "\n",
    "# Create a Linear Regression model\n",
    "model = LinearRegression()\n",
    "\n",
    "# Train the model on the training data\n",
    "model.fit(X_train, y_train)\n",
    "\n",
    "# Make predictions on the test data\n",
    "y_pred = model.predict(X_test)\n",
    "\n",
    "# Evaluate the model's performance\n",
    "from sklearn.metrics import mean_squared_error, r2_score\n",
    "\n",
    "mse = mean_squared_error(y_test, y_pred)\n",
    "r2 = r2_score(y_test, y_pred)\n",
    "\n",
    "print(f\"Mean Squared Error: {mse}\")\n",
    "print(f\"R-squared (R2) Score: {r2}\")\n",
    "\n",
    "# Use the model to make a stock price prediction for a specific date\n",
    "date_to_predict = \"2022-01-03\"  # Replace with the desired date\n",
    "predicted_price = model.predict(np.array(df.loc[date_to_predict]['Adj Close']).reshape(1, -1))\n",
    "\n",
    "print(f\"Predicted stock price on {date_to_predict}: ${predicted_price[0]:.2f}\")\n"
   ]
  },
  {
   "cell_type": "markdown",
   "metadata": {},
   "source": []
  }
 ],
 "metadata": {
  "language_info": {
   "name": "python"
  }
 },
 "nbformat": 4,
 "nbformat_minor": 2
}
